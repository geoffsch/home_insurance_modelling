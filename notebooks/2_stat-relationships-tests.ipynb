{
 "cells": [
  {
   "cell_type": "markdown",
   "metadata": {},
   "source": [
    "# Esure Assignment -- Geoff Chambers -- 03/02/2021\n",
    "## 2. Statistical Relationships Between Features and Target Variable\n",
    "\n",
    "**Objective:** First-pass indication of relative importance of features for predicting target \n",
    "- Statistical tests for strength of relationships between target variable and other features\n",
    "- Visualise relationships between variables\n",
    "\n",
    "---"
   ]
  },
  {
   "cell_type": "code",
   "execution_count": 1,
   "metadata": {},
   "outputs": [],
   "source": [
    "### Environment: conda proj-home-ins\n",
    "\n",
    "# Extensions & config\n",
    "%load_ext autoreload\n",
    "%autoreload 1\n",
    "\n",
    "# General package imports\n",
    "import os\n",
    "import numpy as np\n",
    "import pandas as pd\n",
    "import matplotlib.pyplot as plt\n",
    "import seaborn as sns\n",
    "import ipywidgets as widgets\n",
    "from scipy.stats import ttest_ind, chi2_contingency"
   ]
  },
  {
   "cell_type": "markdown",
   "metadata": {},
   "source": [
    "## LOAD CLEAN DATA FROM PREVIOUS NOTEBOOK"
   ]
  },
  {
   "cell_type": "code",
   "execution_count": 2,
   "metadata": {},
   "outputs": [
    {
     "data": {
      "text/html": [
       "<div>\n",
       "<style scoped>\n",
       "    .dataframe tbody tr th:only-of-type {\n",
       "        vertical-align: middle;\n",
       "    }\n",
       "\n",
       "    .dataframe tbody tr th {\n",
       "        vertical-align: top;\n",
       "    }\n",
       "\n",
       "    .dataframe thead th {\n",
       "        text-align: right;\n",
       "    }\n",
       "</style>\n",
       "<table border=\"1\" class=\"dataframe\">\n",
       "  <thead>\n",
       "    <tr style=\"text-align: right;\">\n",
       "      <th></th>\n",
       "      <th>claim3years</th>\n",
       "      <th>p1_emp_status</th>\n",
       "      <th>p1_pt_emp_status</th>\n",
       "      <th>bus_use</th>\n",
       "      <th>ad_buildings</th>\n",
       "      <th>risk_rated_area_b</th>\n",
       "      <th>sum_insured_buildings</th>\n",
       "      <th>ncd_granted_years_b</th>\n",
       "      <th>ad_contents</th>\n",
       "      <th>risk_rated_area_c</th>\n",
       "      <th>...</th>\n",
       "      <th>mta_fap</th>\n",
       "      <th>mta_aprp</th>\n",
       "      <th>last_ann_prem_gross</th>\n",
       "      <th>cover_start_y</th>\n",
       "      <th>cover_start_m</th>\n",
       "      <th>cover_start_d</th>\n",
       "      <th>quote_cover_days</th>\n",
       "      <th>cover_mta_days</th>\n",
       "      <th>p1_age_yrs</th>\n",
       "      <th>lapsed</th>\n",
       "    </tr>\n",
       "    <tr>\n",
       "      <th>police</th>\n",
       "      <th></th>\n",
       "      <th></th>\n",
       "      <th></th>\n",
       "      <th></th>\n",
       "      <th></th>\n",
       "      <th></th>\n",
       "      <th></th>\n",
       "      <th></th>\n",
       "      <th></th>\n",
       "      <th></th>\n",
       "      <th></th>\n",
       "      <th></th>\n",
       "      <th></th>\n",
       "      <th></th>\n",
       "      <th></th>\n",
       "      <th></th>\n",
       "      <th></th>\n",
       "      <th></th>\n",
       "      <th></th>\n",
       "      <th></th>\n",
       "      <th></th>\n",
       "    </tr>\n",
       "  </thead>\n",
       "  <tbody>\n",
       "    <tr>\n",
       "      <th>P000001</th>\n",
       "      <td>False</td>\n",
       "      <td>R</td>\n",
       "      <td>NaN</td>\n",
       "      <td>False</td>\n",
       "      <td>True</td>\n",
       "      <td>19.0</td>\n",
       "      <td>1000000.0</td>\n",
       "      <td>7.0</td>\n",
       "      <td>True</td>\n",
       "      <td>6.0</td>\n",
       "      <td>...</td>\n",
       "      <td>NaN</td>\n",
       "      <td>NaN</td>\n",
       "      <td>274.81</td>\n",
       "      <td>2007.0</td>\n",
       "      <td>11</td>\n",
       "      <td>22</td>\n",
       "      <td>0.0</td>\n",
       "      <td>NaN</td>\n",
       "      <td>68.438056</td>\n",
       "      <td>True</td>\n",
       "    </tr>\n",
       "    <tr>\n",
       "      <th>P000002</th>\n",
       "      <td>False</td>\n",
       "      <td>E</td>\n",
       "      <td>NaN</td>\n",
       "      <td>True</td>\n",
       "      <td>True</td>\n",
       "      <td>25.0</td>\n",
       "      <td>1000000.0</td>\n",
       "      <td>6.0</td>\n",
       "      <td>True</td>\n",
       "      <td>9.0</td>\n",
       "      <td>...</td>\n",
       "      <td>308.83</td>\n",
       "      <td>-9.27</td>\n",
       "      <td>308.83</td>\n",
       "      <td>2008.0</td>\n",
       "      <td>1</td>\n",
       "      <td>1</td>\n",
       "      <td>40.0</td>\n",
       "      <td>NaN</td>\n",
       "      <td>37.618070</td>\n",
       "      <td>False</td>\n",
       "    </tr>\n",
       "    <tr>\n",
       "      <th>P000003</th>\n",
       "      <td>False</td>\n",
       "      <td>E</td>\n",
       "      <td>NaN</td>\n",
       "      <td>False</td>\n",
       "      <td>False</td>\n",
       "      <td>NaN</td>\n",
       "      <td>0.0</td>\n",
       "      <td>0.0</td>\n",
       "      <td>True</td>\n",
       "      <td>12.0</td>\n",
       "      <td>...</td>\n",
       "      <td>52.65</td>\n",
       "      <td>52.65</td>\n",
       "      <td>52.65</td>\n",
       "      <td>2007.0</td>\n",
       "      <td>11</td>\n",
       "      <td>23</td>\n",
       "      <td>0.0</td>\n",
       "      <td>1076.0</td>\n",
       "      <td>60.454483</td>\n",
       "      <td>False</td>\n",
       "    </tr>\n",
       "  </tbody>\n",
       "</table>\n",
       "<p>3 rows × 64 columns</p>\n",
       "</div>"
      ],
      "text/plain": [
       "         claim3years p1_emp_status p1_pt_emp_status  bus_use  ad_buildings  \\\n",
       "police                                                                       \n",
       "P000001        False             R              NaN    False          True   \n",
       "P000002        False             E              NaN     True          True   \n",
       "P000003        False             E              NaN    False         False   \n",
       "\n",
       "         risk_rated_area_b  sum_insured_buildings  ncd_granted_years_b  \\\n",
       "police                                                                   \n",
       "P000001               19.0              1000000.0                  7.0   \n",
       "P000002               25.0              1000000.0                  6.0   \n",
       "P000003                NaN                    0.0                  0.0   \n",
       "\n",
       "         ad_contents  risk_rated_area_c  ...  mta_fap  mta_aprp  \\\n",
       "police                                   ...                      \n",
       "P000001         True                6.0  ...      NaN       NaN   \n",
       "P000002         True                9.0  ...   308.83     -9.27   \n",
       "P000003         True               12.0  ...    52.65     52.65   \n",
       "\n",
       "         last_ann_prem_gross  cover_start_y  cover_start_m  cover_start_d  \\\n",
       "police                                                                      \n",
       "P000001               274.81         2007.0             11             22   \n",
       "P000002               308.83         2008.0              1              1   \n",
       "P000003                52.65         2007.0             11             23   \n",
       "\n",
       "         quote_cover_days cover_mta_days  p1_age_yrs lapsed  \n",
       "police                                                       \n",
       "P000001               0.0            NaN   68.438056   True  \n",
       "P000002              40.0            NaN   37.618070  False  \n",
       "P000003               0.0         1076.0   60.454483  False  \n",
       "\n",
       "[3 rows x 64 columns]"
      ]
     },
     "metadata": {},
     "output_type": "display_data"
    },
    {
     "name": "stdout",
     "output_type": "stream",
     "text": [
      "<class 'pandas.core.frame.DataFrame'>\n",
      "Index: 189021 entries, P000001 to P256136\n",
      "Data columns (total 64 columns):\n",
      " #   Column                  Non-Null Count   Dtype   \n",
      "---  ------                  --------------   -----   \n",
      " 0   claim3years             189021 non-null  bool    \n",
      " 1   p1_emp_status           189021 non-null  object  \n",
      " 2   p1_pt_emp_status        1782 non-null    object  \n",
      " 3   bus_use                 189021 non-null  bool    \n",
      " 4   ad_buildings            189021 non-null  bool    \n",
      " 5   risk_rated_area_b       140876 non-null  float64 \n",
      " 6   sum_insured_buildings   189021 non-null  float64 \n",
      " 7   ncd_granted_years_b     189021 non-null  float64 \n",
      " 8   ad_contents             189021 non-null  bool    \n",
      " 9   risk_rated_area_c       180290 non-null  float64 \n",
      " 10  sum_insured_contents    189021 non-null  float64 \n",
      " 11  ncd_granted_years_c     189021 non-null  float64 \n",
      " 12  contents_cover          189021 non-null  bool    \n",
      " 13  buildings_cover         189021 non-null  bool    \n",
      " 14  spec_sum_insured        189021 non-null  float64 \n",
      " 15  spec_item_prem          189021 non-null  float64 \n",
      " 16  unspec_hrp_prem         189021 non-null  float64 \n",
      " 17  p1_mar_status           189021 non-null  object  \n",
      " 18  p1_policy_refused       189021 non-null  bool    \n",
      " 19  p1_sex                  189021 non-null  object  \n",
      " 20  appr_alarm              189021 non-null  bool    \n",
      " 21  appr_locks              189021 non-null  bool    \n",
      " 22  bedrooms                189021 non-null  float64 \n",
      " 23  roof_construction       189021 non-null  category\n",
      " 24  wall_construction       189021 non-null  category\n",
      " 25  flooding                189021 non-null  bool    \n",
      " 26  listed                  189021 non-null  float64 \n",
      " 27  max_days_unocc          189021 non-null  float64 \n",
      " 28  neigh_watch             189021 non-null  bool    \n",
      " 29  occ_status              189021 non-null  object  \n",
      " 30  ownership_type          189021 non-null  category\n",
      " 31  paying_guests           189021 non-null  float64 \n",
      " 32  prop_type               189021 non-null  category\n",
      " 33  safe_installed          189021 non-null  bool    \n",
      " 34  sec_disc_req            189021 non-null  bool    \n",
      " 35  subsidence              189021 non-null  bool    \n",
      " 36  yearbuilt               189021 non-null  float64 \n",
      " 37  payment_method          189021 non-null  object  \n",
      " 38  payment_frequency       80554 non-null   float64 \n",
      " 39  legal_addon_pre_ren     189021 non-null  bool    \n",
      " 40  legal_addon_post_ren    189021 non-null  bool    \n",
      " 41  home_em_addon_pre_ren   189021 non-null  bool    \n",
      " 42  home_em_addon_post_ren  189021 non-null  bool    \n",
      " 43  garden_addon_pre_ren    189021 non-null  bool    \n",
      " 44  garden_addon_post_ren   189021 non-null  bool    \n",
      " 45  keycare_addon_pre_ren   189021 non-null  bool    \n",
      " 46  keycare_addon_post_ren  189021 non-null  bool    \n",
      " 47  hp1_addon_pre_ren       189021 non-null  bool    \n",
      " 48  hp1_addon_post_ren      189021 non-null  bool    \n",
      " 49  hp2_addon_pre_ren       189021 non-null  bool    \n",
      " 50  hp2_addon_post_ren      189021 non-null  bool    \n",
      " 51  hp3_addon_pre_ren       189021 non-null  bool    \n",
      " 52  hp3_addon_post_ren      189021 non-null  bool    \n",
      " 53  mta_flag                189021 non-null  bool    \n",
      " 54  mta_fap                 55380 non-null   float64 \n",
      " 55  mta_aprp                55380 non-null   float64 \n",
      " 56  last_ann_prem_gross     189021 non-null  float64 \n",
      " 57  cover_start_y           189021 non-null  float64 \n",
      " 58  cover_start_m           189021 non-null  category\n",
      " 59  cover_start_d           189021 non-null  category\n",
      " 60  quote_cover_days        79144 non-null   float64 \n",
      " 61  cover_mta_days          26430 non-null   float64 \n",
      " 62  p1_age_yrs              189021 non-null  float64 \n",
      " 63  lapsed                  189021 non-null  bool    \n",
      "dtypes: bool(30), category(6), float64(22), object(6)\n",
      "memory usage: 48.3+ MB\n"
     ]
    },
    {
     "data": {
      "text/plain": [
       "None"
      ]
     },
     "metadata": {},
     "output_type": "display_data"
    }
   ],
   "source": [
    "# Restore stored dataframe\n",
    "\n",
    "%store -r policies_df\n",
    "\n",
    "display(policies_df.head(3))\n",
    "display(policies_df.info())"
   ]
  },
  {
   "cell_type": "code",
   "execution_count": 3,
   "metadata": {},
   "outputs": [],
   "source": [
    "target_var = 'lapsed'"
   ]
  },
  {
   "cell_type": "code",
   "execution_count": 4,
   "metadata": {},
   "outputs": [],
   "source": [
    "target_base_rate = policies_df[target_var].mean() # overall proportion of lapsed=True"
   ]
  },
  {
   "cell_type": "code",
   "execution_count": 5,
   "metadata": {},
   "outputs": [],
   "source": [
    "num_features = policies_df.select_dtypes('number').columns\n",
    "cat_features = policies_df.select_dtypes(exclude='number').drop(columns=[target_var]).columns"
   ]
  },
  {
   "cell_type": "markdown",
   "metadata": {},
   "source": [
    "## STATISTICAL RELATIONSHIP BETWEEN TARGET AND NUMERIC FEATURES\n",
    "**2-sample t-test**\n",
    "- H0: lapsed/unlapsed policies have the same expected value of numeric feature\n",
    "- Smaller p-values may indicate a stronger relationship between numeric feature and lapsed status (target); large p-values may indicate numeric features with little effect on lapsed status\n",
    "- This should be taken as a first-pass guide only, because of the possibility of collinearity/confounders, and potential violated assumptions of test (i.e., approx normal sampling distribution)"
   ]
  },
  {
   "cell_type": "code",
   "execution_count": 6,
   "metadata": {},
   "outputs": [],
   "source": [
    "def get_outlier_mask(ser, n_iqr=1.5):\n",
    "    \"\"\"Returns a boolean series of outliers (True=outlier) for input series\n",
    "    Based on IQR test, but will not remove values inside p1-p99 range,\n",
    "        nor will it modify Series if >=98% of values are identical\n",
    "    \"\"\"\n",
    "    p1, q1, q3, p99 = ser.quantile([0.01, 0.25, 0.75, 0.99])\n",
    "    iqr = q3 - q1\n",
    "    thres_lo = min(q1 - 1.5*iqr, p1)\n",
    "    thres_hi = max(q3 + 1.5*iqr, p99)\n",
    "    if thres_lo == thres_hi: # Series is essentially a single value, leave it alone\n",
    "        return pd.Series(False, index=ser.index)\n",
    "    outlier_mask = ~ser.between(thres_lo, thres_hi)\n",
    "    return outlier_mask"
   ]
  },
  {
   "cell_type": "code",
   "execution_count": 7,
   "metadata": {},
   "outputs": [
    {
     "name": "stdout",
     "output_type": "stream",
     "text": [
      "Rough ranking of influence of numeric variables on lapsed status, with p-value of test:\n"
     ]
    },
    {
     "data": {
      "text/plain": [
       "cover_start_y             0.000000e+00\n",
       "sum_insured_buildings     0.000000e+00\n",
       "ncd_granted_years_b       0.000000e+00\n",
       "max_days_unocc            0.000000e+00\n",
       "bedrooms                 3.236391e-253\n",
       "risk_rated_area_b        1.482539e-175\n",
       "last_ann_prem_gross      4.835772e-164\n",
       "risk_rated_area_c        5.631947e-102\n",
       "spec_sum_insured          4.794185e-70\n",
       "spec_item_prem            1.278767e-64\n",
       "mta_fap                   7.503673e-53\n",
       "cover_mta_days            5.342020e-36\n",
       "yearbuilt                 9.461979e-16\n",
       "sum_insured_contents      4.935097e-09\n",
       "quote_cover_days          4.300912e-08\n",
       "mta_aprp                  5.217341e-07\n",
       "unspec_hrp_prem           2.341078e-03\n",
       "ncd_granted_years_c       9.245278e-03\n",
       "p1_age_yrs                2.624979e-02\n",
       "paying_guests             5.290710e-02\n",
       "listed                    1.155666e-01\n",
       "payment_frequency                  NaN\n",
       "dtype: float64"
      ]
     },
     "metadata": {},
     "output_type": "display_data"
    }
   ],
   "source": [
    "# Get test p-value for each numeric feature\n",
    "\n",
    "num_p_values = {}\n",
    "for feature in num_features:\n",
    "    outlier_mask = get_outlier_mask(policies_df[feature])\n",
    "    \n",
    "    unlapsed_vals = policies_df.loc[~policies_df[target_var] & ~outlier_mask, feature].dropna().values\n",
    "    lapsed_vals = policies_df.loc[policies_df[target_var] & ~outlier_mask, feature].dropna().values\n",
    "    \n",
    "    stat, pval = ttest_ind(unlapsed_vals, lapsed_vals)\n",
    "    num_p_values[feature] = pval\n",
    "    \n",
    "num_p_values = pd.Series(num_p_values).sort_values()\n",
    "\n",
    "print(\"Rough ranking of influence of numeric variables on lapsed status, with p-value of test:\")\n",
    "display(num_p_values)"
   ]
  },
  {
   "cell_type": "markdown",
   "metadata": {},
   "source": [
    "## STATISTICAL RELATIONSHIP BETWEEN TARGET AND CATEGORICAL FEATURES\n",
    "**chi-squared test**\n",
    "- H0: policy status (lapsed/unlapsed) is independent of categorical feature\n",
    "- Smaller p-values suggest a stronger relationship between numeric feature and lapsed status (target); large p-values may indicate numeric features with little effect on lapsed status\n",
    "- This should be taken as a first-pass guide only, because of the possibility of confounders, and potential violated assumptions of test (i.e., insufficient expected frequency for rare categories)"
   ]
  },
  {
   "cell_type": "code",
   "execution_count": 8,
   "metadata": {},
   "outputs": [
    {
     "data": {
      "text/plain": [
       "Index(['claim3years', 'p1_emp_status', 'p1_pt_emp_status', 'bus_use',\n",
       "       'ad_buildings', 'ad_contents', 'contents_cover', 'buildings_cover',\n",
       "       'p1_mar_status', 'p1_policy_refused', 'p1_sex', 'appr_alarm',\n",
       "       'appr_locks', 'roof_construction', 'wall_construction', 'flooding',\n",
       "       'neigh_watch', 'occ_status', 'ownership_type', 'prop_type',\n",
       "       'safe_installed', 'sec_disc_req', 'subsidence', 'payment_method',\n",
       "       'legal_addon_pre_ren', 'legal_addon_post_ren', 'home_em_addon_pre_ren',\n",
       "       'home_em_addon_post_ren', 'garden_addon_pre_ren',\n",
       "       'garden_addon_post_ren', 'keycare_addon_pre_ren',\n",
       "       'keycare_addon_post_ren', 'hp1_addon_pre_ren', 'hp1_addon_post_ren',\n",
       "       'hp2_addon_pre_ren', 'hp2_addon_post_ren', 'hp3_addon_pre_ren',\n",
       "       'hp3_addon_post_ren', 'mta_flag', 'cover_start_m', 'cover_start_d'],\n",
       "      dtype='object')"
      ]
     },
     "execution_count": 8,
     "metadata": {},
     "output_type": "execute_result"
    }
   ],
   "source": [
    "cat_features"
   ]
  },
  {
   "cell_type": "code",
   "execution_count": 9,
   "metadata": {},
   "outputs": [
    {
     "name": "stdout",
     "output_type": "stream",
     "text": [
      "Rough ranking of influence of categorical variables on lapsed status, with p-value of test:\n"
     ]
    },
    {
     "data": {
      "text/plain": [
       "p1_mar_status              0.000000e+00\n",
       "payment_method             0.000000e+00\n",
       "legal_addon_post_ren       0.000000e+00\n",
       "ad_buildings               0.000000e+00\n",
       "contents_cover             0.000000e+00\n",
       "prop_type                  0.000000e+00\n",
       "hp2_addon_post_ren        2.881593e-170\n",
       "p1_sex                    6.493297e-149\n",
       "garden_addon_post_ren     1.305646e-148\n",
       "hp1_addon_post_ren         2.028934e-87\n",
       "ownership_type             4.305523e-74\n",
       "cover_start_d              6.983088e-63\n",
       "keycare_addon_post_ren     9.190361e-46\n",
       "garden_addon_pre_ren       3.857626e-44\n",
       "cover_start_m              4.195952e-42\n",
       "hp3_addon_post_ren         3.722727e-39\n",
       "p1_emp_status              2.952771e-35\n",
       "bus_use                    1.809021e-34\n",
       "safe_installed             8.949317e-31\n",
       "flooding                   8.897101e-27\n",
       "appr_locks                 1.098769e-26\n",
       "sec_disc_req               5.587765e-19\n",
       "legal_addon_pre_ren        1.829357e-18\n",
       "occ_status                 3.458250e-18\n",
       "p1_policy_refused          6.185678e-10\n",
       "home_em_addon_pre_ren      2.582580e-09\n",
       "claim3years                5.032217e-08\n",
       "subsidence                 1.471472e-05\n",
       "roof_construction          5.537355e-05\n",
       "neigh_watch                4.076340e-04\n",
       "buildings_cover            6.052856e-04\n",
       "ad_contents                6.052856e-04\n",
       "keycare_addon_pre_ren      1.594810e-03\n",
       "appr_alarm                 1.783647e-03\n",
       "wall_construction          2.028726e-03\n",
       "hp2_addon_pre_ren          1.447913e-02\n",
       "mta_flag                   1.734305e-02\n",
       "hp1_addon_pre_ren          3.984646e-02\n",
       "home_em_addon_post_ren     1.781796e-01\n",
       "hp3_addon_pre_ren          2.772572e-01\n",
       "p1_pt_emp_status           8.762632e-01\n",
       "dtype: float64"
      ]
     },
     "metadata": {},
     "output_type": "display_data"
    }
   ],
   "source": [
    "# Get test p-value for each categorical feature\n",
    "\n",
    "cat_p_values = {}\n",
    "for feature in cat_features:\n",
    "    cont_table = pd.crosstab(policies_df[feature], policies_df[target_var])\n",
    "    \n",
    "    chi2, pval, dof, expected_table = chi2_contingency(cont_table)\n",
    "    cat_p_values[feature] = pval\n",
    "    \n",
    "cat_p_values = pd.Series(cat_p_values).sort_values()\n",
    "\n",
    "print(\"Rough ranking of influence of categorical variables on lapsed status, with p-value of test:\")\n",
    "display(cat_p_values)"
   ]
  },
  {
   "cell_type": "markdown",
   "metadata": {},
   "source": [
    "## VISUALISE RELATIONSHIPS"
   ]
  },
  {
   "cell_type": "code",
   "execution_count": 10,
   "metadata": {},
   "outputs": [],
   "source": [
    "def plot_relship_num(feature, outlier_filter=True):\n",
    "    \"\"\"Visualise relationship between numeric feature and lapsed status\n",
    "    Produces KDE and boxplot of numeric feature values, split by lapsed status\n",
    "    Returns (fig, axes)\n",
    "    \"\"\"\n",
    "    if outlier_filter:\n",
    "        outlier_mask = get_outlier_mask(policies_df[feature])\n",
    "        plot_data = policies_df.loc[~outlier_mask, [feature, target_var]]\n",
    "    else:\n",
    "        plot_data = policies_df[[feature, target_var]]\n",
    "        \n",
    "    fig, axes = plt.subplots(2, 1, figsize=(8, 6), sharex=True, gridspec_kw={'height_ratios': [2, 1]})\n",
    "    \n",
    "    # KDE on top axis\n",
    "    sns.kdeplot(plot_data.loc[~plot_data[target_var], feature], ax=axes[0], label='False', shade=True)\n",
    "    sns.kdeplot(plot_data.loc[plot_data[target_var], feature], ax=axes[0], label='True', shade=True)\n",
    "    axes[0].legend(title=target_var)\n",
    "    \n",
    "    # Boxplots on bottom axis\n",
    "    sns.boxplot(x=feature, y=target_var, data=plot_data, ax=axes[1], orient='h', boxprops={'alpha': 0.6})\n",
    "    \n",
    "    for ax in axes:\n",
    "        ax.grid(axis='x')\n",
    "    \n",
    "    return (fig, axes)"
   ]
  },
  {
   "cell_type": "code",
   "execution_count": 11,
   "metadata": {},
   "outputs": [],
   "source": [
    "def plot_relship_cat(feature):\n",
    "    \"\"\"Plot relationship between categorical feature and lapsed status\n",
    "    Produces stacked bar plots of contingency table, unnormalised (record count) and normalised (relative frequency)\n",
    "    Returns (fix, axes)\n",
    "    \"\"\"\n",
    "    cont_table = pd.crosstab(policies_df[feature], policies_df[target_var])\n",
    "    cont_table_rel = cont_table.div(cont_table.sum(axis=1), axis=0)\n",
    "    \n",
    "    fig, axes = plt.subplots(2, 1, figsize=(8, 6), sharex=True, gridspec_kw={'height_ratios': [2, 1]})\n",
    "    \n",
    "    # contingency table record counts on top axis\n",
    "    cont_table.plot(ax=axes[0], kind='bar', stacked=True, alpha=0.6)\n",
    "    axes[0].set_ylabel('Record count')\n",
    "    axes[0].legend(title=target_var)\n",
    "    \n",
    "    # lapsed ratio for each feature category\n",
    "    cont_table_rel.plot(ax=axes[1], kind='bar', stacked=True, alpha=0.6, legend=None)\n",
    "    axes[1].set_ylabel('Relative frequency')\n",
    "    axes[1].axhline(y=1-target_base_rate, color='red', linestyle='--')\n",
    "    \n",
    "    for ax in axes:\n",
    "        ax.grid('y')\n",
    "    \n",
    "    return (fig, axes)"
   ]
  },
  {
   "cell_type": "code",
   "execution_count": 12,
   "metadata": {},
   "outputs": [
    {
     "data": {
      "application/vnd.jupyter.widget-view+json": {
       "model_id": "dee2899ae6e34ec3ba63c6d9fd146ce9",
       "version_major": 2,
       "version_minor": 0
      },
      "text/plain": [
       "interactive(children=(Dropdown(description='Feature:', options=('cover_start_y', 'legal_addon_post_ren', 'ad_b…"
      ]
     },
     "metadata": {},
     "output_type": "display_data"
    },
    {
     "data": {
      "text/plain": [
       "<function __main__.interactive_relship_plot(feature, show_fig=True)>"
      ]
     },
     "execution_count": 12,
     "metadata": {},
     "output_type": "execute_result"
    }
   ],
   "source": [
    "# Interactive plotter\n",
    "\n",
    "p_values = num_p_values.append(cat_p_values).sort_values() # combined p-values\n",
    "\n",
    "def interactive_relship_plot(feature, show_fig=True):\n",
    "    \"\"\"Interactive plotter for relationship of feature to target variable\n",
    "    \"\"\"\n",
    "    if feature in num_features:\n",
    "        fig, axes = plot_relship_num(feature)\n",
    "    elif feature in cat_features:\n",
    "        fig, axes = plot_relship_cat(feature)\n",
    "    else:\n",
    "        raise ValueError(f\"Provided feature={feature} not found in either numeric or categorical feature lists\")\n",
    "        \n",
    "    fig.suptitle(f\"Distribution of {feature} relative to {target_var} (p-value {p_values[feature]:.1e})\")\n",
    "    fig.tight_layout()\n",
    "    if show_fig:\n",
    "        plt.show()\n",
    "    else:\n",
    "        return fig, axes\n",
    "\n",
    "feature_sel = widgets.Dropdown(options=p_values.index, description='Feature:', style={'description_width': 'initial'})\n",
    "widgets.interact(interactive_relship_plot, feature=feature_sel, show_fig=widgets.fixed(True))"
   ]
  },
  {
   "cell_type": "markdown",
   "metadata": {},
   "source": [
    "### *Observations:*\n",
    "- More recent policies (cover_start_y) are more likely to lapse\n",
    "- Non-direct-debit are more likely to lapse than direct-debit (payment_method)\n",
    "- Marital status (p1_mar_status) seems to have an effect, although cannot say much about it without knowing the codes\n",
    "- Last annual premium (last_ann_premium_gross) has perhaps less overall effect than expected, although low (<100) premiums are less likely to lapse\n",
    "- Slight effect of number of bedrooms (bedrooms); larger houses slightly more likely to lapse\n",
    "- Prior claims history (claim3years) has little effect"
   ]
  },
  {
   "cell_type": "code",
   "execution_count": 13,
   "metadata": {},
   "outputs": [],
   "source": [
    "# Save specified images to file\n",
    "\n",
    "save_features = [\n",
    "    'cover_start_y',\n",
    "    'payment_method',\n",
    "    'p1_mar_status',\n",
    "    'bedrooms',\n",
    "    'last_ann_prem_gross',\n",
    "    'claim3years'\n",
    "]\n",
    "save_features = None\n",
    "\n",
    "save_dir = \"../images/\"\n",
    "\n",
    "if save_features is not None:\n",
    "    if not os.path.isdir(save_dir):\n",
    "        os.makedirs(save_dir)\n",
    "    \n",
    "    print(\"Creating image files:\")\n",
    "    for feature in save_features:\n",
    "        fname = save_dir + f\"{target_var.replace('_', '-')}_vs_{feature.replace('_', '-')}.png\"\n",
    "        fig, axes = interactive_relship_plot(feature, show_fig=False)\n",
    "        fig.savefig(fname)\n",
    "        plt.close(fig)\n",
    "        print(f\"  {fname}\")"
   ]
  },
  {
   "cell_type": "markdown",
   "metadata": {},
   "source": [
    "## OLD / BACKUP CELLS"
   ]
  },
  {
   "cell_type": "code",
   "execution_count": 14,
   "metadata": {},
   "outputs": [
    {
     "ename": "RuntimeError",
     "evalue": "Stop here, dont run old cells",
     "output_type": "error",
     "traceback": [
      "\u001b[1;31m---------------------------------------------------------------------------\u001b[0m",
      "\u001b[1;31mRuntimeError\u001b[0m                              Traceback (most recent call last)",
      "\u001b[1;32m<ipython-input-14-c9ce6b75adc0>\u001b[0m in \u001b[0;36m<module>\u001b[1;34m\u001b[0m\n\u001b[1;32m----> 1\u001b[1;33m \u001b[1;32mraise\u001b[0m \u001b[0mRuntimeError\u001b[0m\u001b[1;33m(\u001b[0m\u001b[1;34m'Stop here, dont run old cells'\u001b[0m\u001b[1;33m)\u001b[0m\u001b[1;33m\u001b[0m\u001b[1;33m\u001b[0m\u001b[0m\n\u001b[0m",
      "\u001b[1;31mRuntimeError\u001b[0m: Stop here, dont run old cells"
     ]
    }
   ],
   "source": [
    "raise RuntimeError('Stop here, dont run old cells')"
   ]
  },
  {
   "cell_type": "code",
   "execution_count": null,
   "metadata": {},
   "outputs": [],
   "source": [
    "# Plot contingency table delta observed - expected, as fraction of records\n",
    "#- probably not bother with this\n",
    "\n",
    "cont_table_exp = pd.DataFrame(exp_table, index=cont_table.index, columns=cont_table.columns)\n",
    "cont_deltafraction_obs_exp = (cont_table - cont_table_exp) / cont_table.sum().sum()\n",
    "\n",
    "sns.heatmap(cont_deltafraction_obs_exp.iloc[::-1], annot=True, vmin=-0.5, vmax=0.5, cmap='seismic_r')\n",
    "plt.show()"
   ]
  }
 ],
 "metadata": {
  "kernelspec": {
   "display_name": "Python [conda env:proj-home-ins]",
   "language": "python",
   "name": "conda-env-proj-home-ins-py"
  },
  "language_info": {
   "codemirror_mode": {
    "name": "ipython",
    "version": 3
   },
   "file_extension": ".py",
   "mimetype": "text/x-python",
   "name": "python",
   "nbconvert_exporter": "python",
   "pygments_lexer": "ipython3",
   "version": "3.8.6"
  }
 },
 "nbformat": 4,
 "nbformat_minor": 2
}
